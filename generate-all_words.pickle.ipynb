{
 "cells": [
  {
   "cell_type": "code",
   "execution_count": 1,
   "metadata": {
    "ExecuteTime": {
     "end_time": "2020-10-18T08:07:39.754209Z",
     "start_time": "2020-10-18T08:07:39.337211Z"
    },
    "execution": {
     "iopub.execute_input": "2020-10-18T08:09:06.829791Z",
     "iopub.status.busy": "2020-10-18T08:09:06.828792Z",
     "iopub.status.idle": "2020-10-18T08:09:07.266784Z",
     "shell.execute_reply": "2020-10-18T08:09:07.266784Z"
    }
   },
   "outputs": [],
   "source": [
    "import nltk\n",
    "from nltk.corpus import words, stopwords, wordnet\n",
    "import requests\n",
    "import pickle\n",
    "from urllib.request import urlopen\n",
    "import json"
   ]
  },
  {
   "cell_type": "code",
   "execution_count": 2,
   "metadata": {
    "ExecuteTime": {
     "end_time": "2020-10-18T08:07:39.763210Z",
     "start_time": "2020-10-18T08:07:39.756209Z"
    },
    "execution": {
     "iopub.execute_input": "2020-10-18T08:09:07.278783Z",
     "iopub.status.busy": "2020-10-18T08:09:07.277783Z",
     "iopub.status.idle": "2020-10-18T08:09:07.281783Z",
     "shell.execute_reply": "2020-10-18T08:09:07.280782Z"
    }
   },
   "outputs": [],
   "source": [
    "def get_prepared_words():\n",
    "    global nltk, words, stopwords, wordnet\n",
    "\n",
    "    # prepare\n",
    "    prepared_words = []\n",
    "    nltk.download('words')\n",
    "    nltk.download('stopwords')\n",
    "    nltk.download('wordnet')\n",
    "    r = requests.get(\n",
    "        'https://raw.githubusercontent.com/dwyl/english-words/master/words_dictionary.json'\n",
    "    )\n",
    "    dwyl_words = list(r.json().keys())\n",
    "    ahmadly_words = list(\n",
    "        pickle.load(\n",
    "            urlopen(\n",
    "                \"https://github.com/jojoee/WordCookiesCheat/blob/master/all_words.pickle?raw=true\"\n",
    "            )))\n",
    "    wordnet_words = list(wordnet.words())\n",
    "\n",
    "    # proceed\n",
    "    prepared_words = stopwords.words() + words.words(\n",
    "    ) + wordnet_words + ahmadly_words\n",
    "    prepared_words = [\n",
    "        word.lower() for word in prepared_words if word.isalpha()\n",
    "    ]\n",
    "    prepared_words = list(set(prepared_words))\n",
    "\n",
    "    # sort\n",
    "    prepared_words.sort()\n",
    "\n",
    "    # debug\n",
    "    print(\"stopwords size: %d\" % len(stopwords.words()))\n",
    "    print(\"words size: %d\" % len(words.words()))\n",
    "    print(\"wordnet size: %d\" % len(list(wordnet.words())))\n",
    "    print(\"dwyl_words size: %d\" % len(dwyl_words))\n",
    "    print(\"prepared_words size: %d\" % len(prepared_words))\n",
    "\n",
    "    return prepared_words"
   ]
  },
  {
   "cell_type": "code",
   "execution_count": 3,
   "metadata": {
    "ExecuteTime": {
     "end_time": "2020-10-18T08:07:48.408232Z",
     "start_time": "2020-10-18T08:07:39.766209Z"
    },
    "execution": {
     "iopub.execute_input": "2020-10-18T08:09:07.285783Z",
     "iopub.status.busy": "2020-10-18T08:09:07.284783Z",
     "iopub.status.idle": "2020-10-18T08:09:15.530590Z",
     "shell.execute_reply": "2020-10-18T08:09:15.531586Z"
    }
   },
   "outputs": [
    {
     "name": "stderr",
     "output_type": "stream",
     "text": [
      "[nltk_data] Downloading package words to C:\\Users\\jojoee-\n",
      "[nltk_data]     pc\\AppData\\Roaming\\nltk_data...\n",
      "[nltk_data]   Package words is already up-to-date!\n",
      "[nltk_data] Downloading package stopwords to C:\\Users\\jojoee-\n",
      "[nltk_data]     pc\\AppData\\Roaming\\nltk_data...\n",
      "[nltk_data]   Package stopwords is already up-to-date!\n",
      "[nltk_data] Downloading package wordnet to C:\\Users\\jojoee-\n",
      "[nltk_data]     pc\\AppData\\Roaming\\nltk_data...\n",
      "[nltk_data]   Package wordnet is already up-to-date!\n"
     ]
    },
    {
     "name": "stdout",
     "output_type": "stream",
     "text": [
      "stopwords size: 6800\n",
      "words size: 236736\n",
      "wordnet size: 147306\n",
      "dwyl_words size: 370100\n",
      "prepared_words size: 448501\n"
     ]
    }
   ],
   "source": [
    "prepared_words = get_prepared_words()"
   ]
  },
  {
   "cell_type": "code",
   "execution_count": 4,
   "metadata": {
    "ExecuteTime": {
     "end_time": "2020-10-18T08:07:48.435217Z",
     "start_time": "2020-10-18T08:07:48.409218Z"
    },
    "execution": {
     "iopub.execute_input": "2020-10-18T08:09:15.550569Z",
     "iopub.status.busy": "2020-10-18T08:09:15.550569Z",
     "iopub.status.idle": "2020-10-18T08:09:15.553585Z",
     "shell.execute_reply": "2020-10-18T08:09:15.552587Z"
    }
   },
   "outputs": [
    {
     "data": {
      "text/plain": [
       "['a', 'aa', 'aaa', 'aaaa', 'aaaaaa', 'aaal', 'aaas', 'aaberg', 'aac', 'aachen']"
      ]
     },
     "execution_count": 1,
     "metadata": {},
     "output_type": "execute_result"
    }
   ],
   "source": [
    "prepared_words[:10]"
   ]
  },
  {
   "cell_type": "code",
   "execution_count": 5,
   "metadata": {
    "ExecuteTime": {
     "end_time": "2020-10-18T08:07:48.715228Z",
     "start_time": "2020-10-18T08:07:48.438216Z"
    },
    "execution": {
     "iopub.execute_input": "2020-10-18T08:09:15.621589Z",
     "iopub.status.busy": "2020-10-18T08:09:15.620569Z",
     "iopub.status.idle": "2020-10-18T08:09:15.805596Z",
     "shell.execute_reply": "2020-10-18T08:09:15.805596Z"
    }
   },
   "outputs": [],
   "source": [
    "# save as \"set\" for search performance\n",
    "model_path = './wordcookies/all_words.pickle'\n",
    "pickle.dump(set(prepared_words), open(model_path, 'wb'))"
   ]
  },
  {
   "cell_type": "code",
   "execution_count": null,
   "metadata": {},
   "outputs": [],
   "source": []
  }
 ],
 "metadata": {
  "kernelspec": {
   "display_name": "Python 3",
   "language": "python",
   "name": "python3"
  },
  "language_info": {
   "codemirror_mode": {
    "name": "ipython",
    "version": 3
   },
   "file_extension": ".py",
   "mimetype": "text/x-python",
   "name": "python",
   "nbconvert_exporter": "python",
   "pygments_lexer": "ipython3",
   "version": "3.7.5"
  },
  "toc": {
   "base_numbering": 1,
   "nav_menu": {},
   "number_sections": true,
   "sideBar": true,
   "skip_h1_title": false,
   "title_cell": "Table of Contents",
   "title_sidebar": "Contents",
   "toc_cell": false,
   "toc_position": {},
   "toc_section_display": true,
   "toc_window_display": false
  }
 },
 "nbformat": 4,
 "nbformat_minor": 4
}